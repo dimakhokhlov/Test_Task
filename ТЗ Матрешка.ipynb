{
 "cells": [
  {
   "cell_type": "markdown",
   "id": "05ffcc6d",
   "metadata": {},
   "source": [
    "Импортируем нужные библиотеки"
   ]
  },
  {
   "cell_type": "code",
   "execution_count": 426,
   "id": "f6187e31",
   "metadata": {},
   "outputs": [],
   "source": [
    "import pandas as pd\n",
    "import seaborn as sns\n",
    "import ydata_profiling\n",
    "import matplotlib.pyplot as plt\n",
    "import numpy as np\n",
    "from statsmodels.tsa.arima.model import ARIMA\n",
    "import warnings"
   ]
  },
  {
   "cell_type": "code",
   "execution_count": 427,
   "id": "a9d410cd",
   "metadata": {},
   "outputs": [],
   "source": [
    "pd.set_option('display.max_rows', None)\n",
    "pd.set_option('display.max_columns', None)\n",
    "warnings.filterwarnings(\"ignore\")"
   ]
  },
  {
   "cell_type": "markdown",
   "id": "8b504e21",
   "metadata": {},
   "source": [
    "Прочтем файл"
   ]
  },
  {
   "cell_type": "code",
   "execution_count": 428,
   "id": "535d205e",
   "metadata": {},
   "outputs": [],
   "source": [
    "file_path = 'Ad_revenue.xlsx'"
   ]
  },
  {
   "cell_type": "markdown",
   "id": "a2f51f7b",
   "metadata": {},
   "source": [
    "Создадим датасеты"
   ]
  },
  {
   "cell_type": "code",
   "execution_count": 429,
   "id": "2e429f94",
   "metadata": {},
   "outputs": [],
   "source": [
    "df_ad_revenue = pd.read_excel(file_path, sheet_name = 'ad revenue')"
   ]
  },
  {
   "cell_type": "code",
   "execution_count": 430,
   "id": "f3effbe6",
   "metadata": {},
   "outputs": [],
   "source": [
    "df_installs_data = pd.read_excel(file_path, sheet_name = 'installs data')"
   ]
  },
  {
   "cell_type": "markdown",
   "id": "103a53ad",
   "metadata": {},
   "source": [
    "Взглянем на датасеты"
   ]
  },
  {
   "cell_type": "code",
   "execution_count": 431,
   "id": "c01c7b70",
   "metadata": {},
   "outputs": [
    {
     "data": {
      "text/html": [
       "<div>\n",
       "<style scoped>\n",
       "    .dataframe tbody tr th:only-of-type {\n",
       "        vertical-align: middle;\n",
       "    }\n",
       "\n",
       "    .dataframe tbody tr th {\n",
       "        vertical-align: top;\n",
       "    }\n",
       "\n",
       "    .dataframe thead th {\n",
       "        text-align: right;\n",
       "    }\n",
       "</style>\n",
       "<table border=\"1\" class=\"dataframe\">\n",
       "  <thead>\n",
       "    <tr style=\"text-align: right;\">\n",
       "      <th></th>\n",
       "      <th>install_date</th>\n",
       "      <th>event_date</th>\n",
       "      <th>event_revenue</th>\n",
       "      <th>platform</th>\n",
       "      <th>user_id</th>\n",
       "    </tr>\n",
       "  </thead>\n",
       "  <tbody>\n",
       "    <tr>\n",
       "      <th>0</th>\n",
       "      <td>2023-09-21</td>\n",
       "      <td>2023-09-21</td>\n",
       "      <td>0.316470</td>\n",
       "      <td>android</td>\n",
       "      <td>1695339148585-8391306266630234966</td>\n",
       "    </tr>\n",
       "    <tr>\n",
       "      <th>1</th>\n",
       "      <td>2023-09-21</td>\n",
       "      <td>2023-09-21</td>\n",
       "      <td>0.063103</td>\n",
       "      <td>android</td>\n",
       "      <td>1695280270975-5411644856462553821</td>\n",
       "    </tr>\n",
       "    <tr>\n",
       "      <th>2</th>\n",
       "      <td>2023-09-21</td>\n",
       "      <td>2023-09-21</td>\n",
       "      <td>0.316470</td>\n",
       "      <td>android</td>\n",
       "      <td>1695317488398-8939481192662600393</td>\n",
       "    </tr>\n",
       "    <tr>\n",
       "      <th>3</th>\n",
       "      <td>2023-09-21</td>\n",
       "      <td>2023-09-21</td>\n",
       "      <td>0.054710</td>\n",
       "      <td>android</td>\n",
       "      <td>1695317488398-8939481192662600393</td>\n",
       "    </tr>\n",
       "    <tr>\n",
       "      <th>4</th>\n",
       "      <td>2023-09-21</td>\n",
       "      <td>2023-09-21</td>\n",
       "      <td>0.024880</td>\n",
       "      <td>android</td>\n",
       "      <td>1695280270975-5411644856462553821</td>\n",
       "    </tr>\n",
       "    <tr>\n",
       "      <th>5</th>\n",
       "      <td>2023-09-21</td>\n",
       "      <td>2023-09-21</td>\n",
       "      <td>0.065016</td>\n",
       "      <td>android</td>\n",
       "      <td>1695317488398-8939481192662600393</td>\n",
       "    </tr>\n",
       "    <tr>\n",
       "      <th>6</th>\n",
       "      <td>2023-09-21</td>\n",
       "      <td>2023-09-21</td>\n",
       "      <td>0.000590</td>\n",
       "      <td>android</td>\n",
       "      <td>1695339967828-2936034894368767079</td>\n",
       "    </tr>\n",
       "    <tr>\n",
       "      <th>7</th>\n",
       "      <td>2023-09-21</td>\n",
       "      <td>2023-09-21</td>\n",
       "      <td>0.374010</td>\n",
       "      <td>android</td>\n",
       "      <td>1695317488398-8939481192662600393</td>\n",
       "    </tr>\n",
       "    <tr>\n",
       "      <th>8</th>\n",
       "      <td>2023-09-21</td>\n",
       "      <td>2023-09-21</td>\n",
       "      <td>0.035976</td>\n",
       "      <td>android</td>\n",
       "      <td>1695280270975-5411644856462553821</td>\n",
       "    </tr>\n",
       "    <tr>\n",
       "      <th>9</th>\n",
       "      <td>2023-09-21</td>\n",
       "      <td>2023-09-21</td>\n",
       "      <td>0.068990</td>\n",
       "      <td>android</td>\n",
       "      <td>1695339967828-2936034894368767079</td>\n",
       "    </tr>\n",
       "  </tbody>\n",
       "</table>\n",
       "</div>"
      ],
      "text/plain": [
       "  install_date event_date  event_revenue platform  \\\n",
       "0   2023-09-21 2023-09-21       0.316470  android   \n",
       "1   2023-09-21 2023-09-21       0.063103  android   \n",
       "2   2023-09-21 2023-09-21       0.316470  android   \n",
       "3   2023-09-21 2023-09-21       0.054710  android   \n",
       "4   2023-09-21 2023-09-21       0.024880  android   \n",
       "5   2023-09-21 2023-09-21       0.065016  android   \n",
       "6   2023-09-21 2023-09-21       0.000590  android   \n",
       "7   2023-09-21 2023-09-21       0.374010  android   \n",
       "8   2023-09-21 2023-09-21       0.035976  android   \n",
       "9   2023-09-21 2023-09-21       0.068990  android   \n",
       "\n",
       "                             user_id  \n",
       "0  1695339148585-8391306266630234966  \n",
       "1  1695280270975-5411644856462553821  \n",
       "2  1695317488398-8939481192662600393  \n",
       "3  1695317488398-8939481192662600393  \n",
       "4  1695280270975-5411644856462553821  \n",
       "5  1695317488398-8939481192662600393  \n",
       "6  1695339967828-2936034894368767079  \n",
       "7  1695317488398-8939481192662600393  \n",
       "8  1695280270975-5411644856462553821  \n",
       "9  1695339967828-2936034894368767079  "
      ]
     },
     "execution_count": 431,
     "metadata": {},
     "output_type": "execute_result"
    }
   ],
   "source": [
    "df_ad_revenue.head(10)"
   ]
  },
  {
   "cell_type": "code",
   "execution_count": 432,
   "id": "cc3ba9d0",
   "metadata": {},
   "outputs": [
    {
     "data": {
      "text/html": [
       "<div>\n",
       "<style scoped>\n",
       "    .dataframe tbody tr th:only-of-type {\n",
       "        vertical-align: middle;\n",
       "    }\n",
       "\n",
       "    .dataframe tbody tr th {\n",
       "        vertical-align: top;\n",
       "    }\n",
       "\n",
       "    .dataframe thead th {\n",
       "        text-align: right;\n",
       "    }\n",
       "</style>\n",
       "<table border=\"1\" class=\"dataframe\">\n",
       "  <thead>\n",
       "    <tr style=\"text-align: right;\">\n",
       "      <th></th>\n",
       "      <th>install_date</th>\n",
       "      <th>installs</th>\n",
       "      <th>platform</th>\n",
       "    </tr>\n",
       "  </thead>\n",
       "  <tbody>\n",
       "    <tr>\n",
       "      <th>0</th>\n",
       "      <td>2023-09-21</td>\n",
       "      <td>1</td>\n",
       "      <td>android</td>\n",
       "    </tr>\n",
       "    <tr>\n",
       "      <th>1</th>\n",
       "      <td>2023-09-21</td>\n",
       "      <td>0</td>\n",
       "      <td>android</td>\n",
       "    </tr>\n",
       "    <tr>\n",
       "      <th>2</th>\n",
       "      <td>2023-09-21</td>\n",
       "      <td>47</td>\n",
       "      <td>android</td>\n",
       "    </tr>\n",
       "    <tr>\n",
       "      <th>3</th>\n",
       "      <td>2023-09-21</td>\n",
       "      <td>0</td>\n",
       "      <td>android</td>\n",
       "    </tr>\n",
       "    <tr>\n",
       "      <th>4</th>\n",
       "      <td>2023-09-21</td>\n",
       "      <td>0</td>\n",
       "      <td>android</td>\n",
       "    </tr>\n",
       "    <tr>\n",
       "      <th>5</th>\n",
       "      <td>2023-09-21</td>\n",
       "      <td>4</td>\n",
       "      <td>android</td>\n",
       "    </tr>\n",
       "    <tr>\n",
       "      <th>6</th>\n",
       "      <td>2023-09-21</td>\n",
       "      <td>1</td>\n",
       "      <td>android</td>\n",
       "    </tr>\n",
       "    <tr>\n",
       "      <th>7</th>\n",
       "      <td>2023-09-21</td>\n",
       "      <td>41</td>\n",
       "      <td>android</td>\n",
       "    </tr>\n",
       "    <tr>\n",
       "      <th>8</th>\n",
       "      <td>2023-09-21</td>\n",
       "      <td>11</td>\n",
       "      <td>android</td>\n",
       "    </tr>\n",
       "    <tr>\n",
       "      <th>9</th>\n",
       "      <td>2023-09-21</td>\n",
       "      <td>2</td>\n",
       "      <td>android</td>\n",
       "    </tr>\n",
       "  </tbody>\n",
       "</table>\n",
       "</div>"
      ],
      "text/plain": [
       "  install_date  installs platform\n",
       "0   2023-09-21         1  android\n",
       "1   2023-09-21         0  android\n",
       "2   2023-09-21        47  android\n",
       "3   2023-09-21         0  android\n",
       "4   2023-09-21         0  android\n",
       "5   2023-09-21         4  android\n",
       "6   2023-09-21         1  android\n",
       "7   2023-09-21        41  android\n",
       "8   2023-09-21        11  android\n",
       "9   2023-09-21         2  android"
      ]
     },
     "execution_count": 432,
     "metadata": {},
     "output_type": "execute_result"
    }
   ],
   "source": [
    "df_installs_data.head(10)"
   ]
  },
  {
   "cell_type": "code",
   "execution_count": 433,
   "id": "27b5ae56",
   "metadata": {},
   "outputs": [],
   "source": [
    "df_ad_revenue['install_date'] = pd.to_datetime(df_ad_revenue['install_date'])\n",
    "df_ad_revenue['event_date'] = pd.to_datetime(df_ad_revenue['event_date'])"
   ]
  },
  {
   "cell_type": "code",
   "execution_count": 434,
   "id": "43e47ddc",
   "metadata": {},
   "outputs": [],
   "source": [
    "#ydata_profiling.ProfileReport(df_ad_revenue, explorative=True).to_widgets()"
   ]
  },
  {
   "cell_type": "code",
   "execution_count": 435,
   "id": "8135d461",
   "metadata": {},
   "outputs": [],
   "source": [
    "#ydata_profiling.ProfileReport(df_installs_data, explorative=True).to_widgets()"
   ]
  },
  {
   "cell_type": "markdown",
   "id": "cb9578e0",
   "metadata": {},
   "source": [
    "Сгруппируем установки по дате"
   ]
  },
  {
   "cell_type": "code",
   "execution_count": 436,
   "id": "d2ad7d67",
   "metadata": {},
   "outputs": [
    {
     "data": {
      "text/html": [
       "<div>\n",
       "<style scoped>\n",
       "    .dataframe tbody tr th:only-of-type {\n",
       "        vertical-align: middle;\n",
       "    }\n",
       "\n",
       "    .dataframe tbody tr th {\n",
       "        vertical-align: top;\n",
       "    }\n",
       "\n",
       "    .dataframe thead th {\n",
       "        text-align: right;\n",
       "    }\n",
       "</style>\n",
       "<table border=\"1\" class=\"dataframe\">\n",
       "  <thead>\n",
       "    <tr style=\"text-align: right;\">\n",
       "      <th></th>\n",
       "      <th>install_date</th>\n",
       "      <th>installs</th>\n",
       "    </tr>\n",
       "  </thead>\n",
       "  <tbody>\n",
       "    <tr>\n",
       "      <th>0</th>\n",
       "      <td>2023-09-21</td>\n",
       "      <td>718</td>\n",
       "    </tr>\n",
       "    <tr>\n",
       "      <th>1</th>\n",
       "      <td>2023-09-22</td>\n",
       "      <td>671</td>\n",
       "    </tr>\n",
       "    <tr>\n",
       "      <th>2</th>\n",
       "      <td>2023-09-23</td>\n",
       "      <td>693</td>\n",
       "    </tr>\n",
       "    <tr>\n",
       "      <th>3</th>\n",
       "      <td>2023-09-24</td>\n",
       "      <td>891</td>\n",
       "    </tr>\n",
       "    <tr>\n",
       "      <th>4</th>\n",
       "      <td>2023-09-25</td>\n",
       "      <td>1349</td>\n",
       "    </tr>\n",
       "    <tr>\n",
       "      <th>5</th>\n",
       "      <td>2023-09-26</td>\n",
       "      <td>1612</td>\n",
       "    </tr>\n",
       "    <tr>\n",
       "      <th>6</th>\n",
       "      <td>2023-09-27</td>\n",
       "      <td>1649</td>\n",
       "    </tr>\n",
       "    <tr>\n",
       "      <th>7</th>\n",
       "      <td>2023-09-28</td>\n",
       "      <td>1594</td>\n",
       "    </tr>\n",
       "  </tbody>\n",
       "</table>\n",
       "</div>"
      ],
      "text/plain": [
       "  install_date  installs\n",
       "0   2023-09-21       718\n",
       "1   2023-09-22       671\n",
       "2   2023-09-23       693\n",
       "3   2023-09-24       891\n",
       "4   2023-09-25      1349\n",
       "5   2023-09-26      1612\n",
       "6   2023-09-27      1649\n",
       "7   2023-09-28      1594"
      ]
     },
     "execution_count": 436,
     "metadata": {},
     "output_type": "execute_result"
    }
   ],
   "source": [
    "df_installs_dates = df_installs_data.groupby('install_date')['installs'].sum().reset_index()\n",
    "df_installs_dates"
   ]
  },
  {
   "cell_type": "markdown",
   "id": "f81dd176",
   "metadata": {},
   "source": [
    "Сгруппируем прибыль по дате установки и посчитаем кумулятивную прибыль"
   ]
  },
  {
   "cell_type": "code",
   "execution_count": 437,
   "id": "7897c6c6",
   "metadata": {},
   "outputs": [],
   "source": [
    "install_date_revenue = df_ad_revenue.groupby('install_date')['event_revenue'].sum().reset_index()\n",
    "install_date_revenue['cumulative_revenue'] = install_date_revenue['event_revenue'].cumsum()"
   ]
  },
  {
   "cell_type": "code",
   "execution_count": 438,
   "id": "91cfc46e",
   "metadata": {},
   "outputs": [
    {
     "data": {
      "text/html": [
       "<div>\n",
       "<style scoped>\n",
       "    .dataframe tbody tr th:only-of-type {\n",
       "        vertical-align: middle;\n",
       "    }\n",
       "\n",
       "    .dataframe tbody tr th {\n",
       "        vertical-align: top;\n",
       "    }\n",
       "\n",
       "    .dataframe thead th {\n",
       "        text-align: right;\n",
       "    }\n",
       "</style>\n",
       "<table border=\"1\" class=\"dataframe\">\n",
       "  <thead>\n",
       "    <tr style=\"text-align: right;\">\n",
       "      <th></th>\n",
       "      <th>install_date</th>\n",
       "      <th>event_revenue</th>\n",
       "      <th>cumulative_revenue</th>\n",
       "    </tr>\n",
       "  </thead>\n",
       "  <tbody>\n",
       "    <tr>\n",
       "      <th>0</th>\n",
       "      <td>2023-09-21</td>\n",
       "      <td>565.577608</td>\n",
       "      <td>565.577608</td>\n",
       "    </tr>\n",
       "    <tr>\n",
       "      <th>1</th>\n",
       "      <td>2023-09-22</td>\n",
       "      <td>635.464425</td>\n",
       "      <td>1201.042033</td>\n",
       "    </tr>\n",
       "    <tr>\n",
       "      <th>2</th>\n",
       "      <td>2023-09-23</td>\n",
       "      <td>742.279232</td>\n",
       "      <td>1943.321265</td>\n",
       "    </tr>\n",
       "    <tr>\n",
       "      <th>3</th>\n",
       "      <td>2023-09-24</td>\n",
       "      <td>1012.421014</td>\n",
       "      <td>2955.742279</td>\n",
       "    </tr>\n",
       "    <tr>\n",
       "      <th>4</th>\n",
       "      <td>2023-09-25</td>\n",
       "      <td>1458.796868</td>\n",
       "      <td>4414.539147</td>\n",
       "    </tr>\n",
       "    <tr>\n",
       "      <th>5</th>\n",
       "      <td>2023-09-26</td>\n",
       "      <td>1577.301640</td>\n",
       "      <td>5991.840787</td>\n",
       "    </tr>\n",
       "    <tr>\n",
       "      <th>6</th>\n",
       "      <td>2023-09-27</td>\n",
       "      <td>1496.667418</td>\n",
       "      <td>7488.508205</td>\n",
       "    </tr>\n",
       "    <tr>\n",
       "      <th>7</th>\n",
       "      <td>2023-09-28</td>\n",
       "      <td>1200.336723</td>\n",
       "      <td>8688.844928</td>\n",
       "    </tr>\n",
       "  </tbody>\n",
       "</table>\n",
       "</div>"
      ],
      "text/plain": [
       "  install_date  event_revenue  cumulative_revenue\n",
       "0   2023-09-21     565.577608          565.577608\n",
       "1   2023-09-22     635.464425         1201.042033\n",
       "2   2023-09-23     742.279232         1943.321265\n",
       "3   2023-09-24    1012.421014         2955.742279\n",
       "4   2023-09-25    1458.796868         4414.539147\n",
       "5   2023-09-26    1577.301640         5991.840787\n",
       "6   2023-09-27    1496.667418         7488.508205\n",
       "7   2023-09-28    1200.336723         8688.844928"
      ]
     },
     "execution_count": 438,
     "metadata": {},
     "output_type": "execute_result"
    }
   ],
   "source": [
    "install_date_revenue"
   ]
  },
  {
   "cell_type": "markdown",
   "id": "8d5ad422",
   "metadata": {},
   "source": [
    "За данный промежуток времени было заработано 8688"
   ]
  },
  {
   "cell_type": "markdown",
   "id": "dadb379e",
   "metadata": {},
   "source": [
    "Построим график роста прибыли"
   ]
  },
  {
   "cell_type": "code",
   "execution_count": 439,
   "id": "66b9783e",
   "metadata": {},
   "outputs": [
    {
     "data": {
      "image/png": "[encoded data removed]",
      "text/plain": [
       "<Figure size 600x400 with 1 Axes>"
      ]
     },
     "metadata": {},
     "output_type": "display_data"
    }
   ],
   "source": [
    "# Построение графика\n",
    "plt.figure(figsize=(6, 4))\n",
    "\n",
    "# График для install_date_revenue\n",
    "plt.plot(install_date_revenue['install_date'], install_date_revenue['cumulative_revenue'], label='Кумулятивная прибыль', marker='o')\n",
    "\n",
    "# Настройки графика\n",
    "plt.xlabel('Дата')\n",
    "plt.ylabel('Прибыль')\n",
    "plt.xticks(rotation=45)\n",
    "plt.legend()\n",
    "plt.grid(True)\n",
    "\n",
    "# Показать график\n",
    "plt.show()"
   ]
  },
  {
   "cell_type": "markdown",
   "id": "4f0aafd7",
   "metadata": {},
   "source": [
    "Сгруппируем данные по дате установки и по дате совершения события, чтобы знать, сколько прибыли приносит когорта в определенный день"
   ]
  },
  {
   "cell_type": "code",
   "execution_count": 440,
   "id": "1f3a3b25",
   "metadata": {},
   "outputs": [],
   "source": [
    "grouped_revenue = df_ad_revenue.groupby(['install_date', 'event_date']).agg({'event_revenue': 'sum'}).reset_index()\n",
    "grouped_revenue['cumulative_revenue'] = grouped_revenue.groupby('install_date')['event_revenue'].cumsum()\n",
    "grouped_revenue['event_date'] = pd.to_datetime(grouped_revenue['event_date']).dt.date\n",
    "grouped_revenue['install_date'] = pd.to_datetime(grouped_revenue['install_date']).dt.date"
   ]
  },
  {
   "cell_type": "markdown",
   "id": "dc4a63d0",
   "metadata": {},
   "source": [
    "Взглянем на первые строки"
   ]
  },
  {
   "cell_type": "code",
   "execution_count": 441,
   "id": "f7d6e81e",
   "metadata": {},
   "outputs": [
    {
     "data": {
      "text/html": [
       "<div>\n",
       "<style scoped>\n",
       "    .dataframe tbody tr th:only-of-type {\n",
       "        vertical-align: middle;\n",
       "    }\n",
       "\n",
       "    .dataframe tbody tr th {\n",
       "        vertical-align: top;\n",
       "    }\n",
       "\n",
       "    .dataframe thead th {\n",
       "        text-align: right;\n",
       "    }\n",
       "</style>\n",
       "<table border=\"1\" class=\"dataframe\">\n",
       "  <thead>\n",
       "    <tr style=\"text-align: right;\">\n",
       "      <th></th>\n",
       "      <th>install_date</th>\n",
       "      <th>event_date</th>\n",
       "      <th>event_revenue</th>\n",
       "      <th>cumulative_revenue</th>\n",
       "    </tr>\n",
       "  </thead>\n",
       "  <tbody>\n",
       "    <tr>\n",
       "      <th>0</th>\n",
       "      <td>2023-09-21</td>\n",
       "      <td>2023-09-21</td>\n",
       "      <td>251.841119</td>\n",
       "      <td>251.841119</td>\n",
       "    </tr>\n",
       "    <tr>\n",
       "      <th>1</th>\n",
       "      <td>2023-09-21</td>\n",
       "      <td>2023-09-22</td>\n",
       "      <td>90.565458</td>\n",
       "      <td>342.406577</td>\n",
       "    </tr>\n",
       "    <tr>\n",
       "      <th>2</th>\n",
       "      <td>2023-09-21</td>\n",
       "      <td>2023-09-23</td>\n",
       "      <td>56.141451</td>\n",
       "      <td>398.548028</td>\n",
       "    </tr>\n",
       "    <tr>\n",
       "      <th>3</th>\n",
       "      <td>2023-09-21</td>\n",
       "      <td>2023-09-24</td>\n",
       "      <td>41.126944</td>\n",
       "      <td>439.674972</td>\n",
       "    </tr>\n",
       "    <tr>\n",
       "      <th>4</th>\n",
       "      <td>2023-09-21</td>\n",
       "      <td>2023-09-25</td>\n",
       "      <td>33.507381</td>\n",
       "      <td>473.182353</td>\n",
       "    </tr>\n",
       "    <tr>\n",
       "      <th>5</th>\n",
       "      <td>2023-09-21</td>\n",
       "      <td>2023-09-26</td>\n",
       "      <td>24.621159</td>\n",
       "      <td>497.803512</td>\n",
       "    </tr>\n",
       "    <tr>\n",
       "      <th>6</th>\n",
       "      <td>2023-09-21</td>\n",
       "      <td>2023-09-27</td>\n",
       "      <td>22.338273</td>\n",
       "      <td>520.141785</td>\n",
       "    </tr>\n",
       "    <tr>\n",
       "      <th>7</th>\n",
       "      <td>2023-09-21</td>\n",
       "      <td>2023-09-28</td>\n",
       "      <td>15.735000</td>\n",
       "      <td>535.876785</td>\n",
       "    </tr>\n",
       "    <tr>\n",
       "      <th>8</th>\n",
       "      <td>2023-09-21</td>\n",
       "      <td>2023-09-29</td>\n",
       "      <td>15.875869</td>\n",
       "      <td>551.752654</td>\n",
       "    </tr>\n",
       "    <tr>\n",
       "      <th>9</th>\n",
       "      <td>2023-09-21</td>\n",
       "      <td>2023-09-30</td>\n",
       "      <td>13.824954</td>\n",
       "      <td>565.577608</td>\n",
       "    </tr>\n",
       "    <tr>\n",
       "      <th>10</th>\n",
       "      <td>2023-09-22</td>\n",
       "      <td>2023-09-22</td>\n",
       "      <td>300.111305</td>\n",
       "      <td>300.111305</td>\n",
       "    </tr>\n",
       "    <tr>\n",
       "      <th>11</th>\n",
       "      <td>2023-09-22</td>\n",
       "      <td>2023-09-23</td>\n",
       "      <td>103.674790</td>\n",
       "      <td>403.786095</td>\n",
       "    </tr>\n",
       "    <tr>\n",
       "      <th>12</th>\n",
       "      <td>2023-09-22</td>\n",
       "      <td>2023-09-24</td>\n",
       "      <td>51.588687</td>\n",
       "      <td>455.374782</td>\n",
       "    </tr>\n",
       "    <tr>\n",
       "      <th>13</th>\n",
       "      <td>2023-09-22</td>\n",
       "      <td>2023-09-25</td>\n",
       "      <td>38.160328</td>\n",
       "      <td>493.535110</td>\n",
       "    </tr>\n",
       "    <tr>\n",
       "      <th>14</th>\n",
       "      <td>2023-09-22</td>\n",
       "      <td>2023-09-26</td>\n",
       "      <td>40.813402</td>\n",
       "      <td>534.348512</td>\n",
       "    </tr>\n",
       "  </tbody>\n",
       "</table>\n",
       "</div>"
      ],
      "text/plain": [
       "   install_date  event_date  event_revenue  cumulative_revenue\n",
       "0    2023-09-21  2023-09-21     251.841119          251.841119\n",
       "1    2023-09-21  2023-09-22      90.565458          342.406577\n",
       "2    2023-09-21  2023-09-23      56.141451          398.548028\n",
       "3    2023-09-21  2023-09-24      41.126944          439.674972\n",
       "4    2023-09-21  2023-09-25      33.507381          473.182353\n",
       "5    2023-09-21  2023-09-26      24.621159          497.803512\n",
       "6    2023-09-21  2023-09-27      22.338273          520.141785\n",
       "7    2023-09-21  2023-09-28      15.735000          535.876785\n",
       "8    2023-09-21  2023-09-29      15.875869          551.752654\n",
       "9    2023-09-21  2023-09-30      13.824954          565.577608\n",
       "10   2023-09-22  2023-09-22     300.111305          300.111305\n",
       "11   2023-09-22  2023-09-23     103.674790          403.786095\n",
       "12   2023-09-22  2023-09-24      51.588687          455.374782\n",
       "13   2023-09-22  2023-09-25      38.160328          493.535110\n",
       "14   2023-09-22  2023-09-26      40.813402          534.348512"
      ]
     },
     "execution_count": 441,
     "metadata": {},
     "output_type": "execute_result"
    }
   ],
   "source": [
    "grouped_revenue.head(15)"
   ]
  },
  {
   "cell_type": "markdown",
   "id": "474b9812",
   "metadata": {},
   "source": [
    "Построим графики по кумулятивной прибыли каждой когорты и прибыли каждой когорты в определенный день"
   ]
  },
  {
   "cell_type": "code",
   "execution_count": 442,
   "id": "5efaa7cc",
   "metadata": {},
   "outputs": [
    {
     "data": {
      "image/png": "[encoded data removed]",
      "text/plain": [
       "<Figure size 700x400 with 1 Axes>"
      ]
     },
     "metadata": {},
     "output_type": "display_data"
    },
    {
     "data": {
      "image/png": "[encoded data removed]",
      "text/plain": [
       "<Figure size 700x400 with 1 Axes>"
      ]
     },
     "metadata": {},
     "output_type": "display_data"
    }
   ],
   "source": [
    "unique_install_dates = grouped_revenue['install_date'].unique()\n",
    "\n",
    "plt.figure(figsize=(7, 4))\n",
    "\n",
    "# Построение графиков для каждой когорты\n",
    "for date in unique_install_dates:\n",
    "    cohort_data = grouped_revenue[grouped_revenue['install_date'] == date]\n",
    "    plt.plot(cohort_data['event_date'], cohort_data['cumulative_revenue'], marker='o', label=f'Когорта {date}')\n",
    "\n",
    "plt.xlabel('Даты')\n",
    "plt.ylabel('Кумулятивная прибыль по когортам')\n",
    "plt.xticks(rotation=45)\n",
    "plt.legend(title='Install Date')\n",
    "plt.legend(loc='upper right', bbox_to_anchor=(1.45, 0.6))\n",
    "plt.grid(True)\n",
    "\n",
    "plt.figure(figsize=(7, 4))\n",
    "\n",
    "for date in unique_install_dates:\n",
    "    cohort_data = grouped_revenue[grouped_revenue['install_date'] == date]\n",
    "    plt.plot(cohort_data['event_date'], cohort_data['event_revenue'], marker='o', label=f'Когорта {date}')\n",
    "\n",
    "plt.xlabel('Даты')\n",
    "plt.ylabel('Прибыль от когорт по дням')\n",
    "plt.xticks(rotation=45)\n",
    "plt.legend(title='Install Date')\n",
    "plt.grid(True)\n",
    "plt.legend(loc='upper right', bbox_to_anchor=(1.45, 0.6))\n",
    "plt.show()"
   ]
  },
  {
   "cell_type": "markdown",
   "id": "2578e14f",
   "metadata": {},
   "source": [
    "График показывает, что пиковые значения дохода приходятся на нулевой день и затем происходит снижение прибыли: показатели доходности бесконечно стремятся к значениям, близким к нулю.\n",
    "___\n",
    "Чтобы примерно узнать, к каким конкретно значениям, нужно провести определенные действия с имеющимися данными\n",
    "\n",
    "Создадим копию данных, с которой будем проводить манипуляции и узнаем процентное изменение ревеню"
   ]
  },
  {
   "cell_type": "code",
   "execution_count": 443,
   "id": "3ea856d8",
   "metadata": {},
   "outputs": [],
   "source": [
    "# Создаем копию\n",
    "grouped_revenue_x = grouped_revenue.copy()\n",
    "\n",
    "# Добавляем новый столбец с процентным изменением event_revenue\n",
    "grouped_revenue_x['revenue_change_percentage'] = grouped_revenue_x.groupby('install_date')['event_revenue'].pct_change() * 100\n",
    "\n",
    "# Заполняем значения NaN в столбце revenue_change_percentage, так как у первого значения не с чем сравнивать\n",
    "grouped_revenue_x['revenue_change_percentage'] = round(grouped_revenue_x['revenue_change_percentage'].fillna(0), 1)"
   ]
  },
  {
   "cell_type": "markdown",
   "id": "dd45e467",
   "metadata": {},
   "source": [
    "Взглянем на результат"
   ]
  },
  {
   "cell_type": "code",
   "execution_count": 444,
   "id": "71af487d",
   "metadata": {},
   "outputs": [
    {
     "data": {
      "text/html": [
       "<div>\n",
       "<style scoped>\n",
       "    .dataframe tbody tr th:only-of-type {\n",
       "        vertical-align: middle;\n",
       "    }\n",
       "\n",
       "    .dataframe tbody tr th {\n",
       "        vertical-align: top;\n",
       "    }\n",
       "\n",
       "    .dataframe thead th {\n",
       "        text-align: right;\n",
       "    }\n",
       "</style>\n",
       "<table border=\"1\" class=\"dataframe\">\n",
       "  <thead>\n",
       "    <tr style=\"text-align: right;\">\n",
       "      <th></th>\n",
       "      <th>install_date</th>\n",
       "      <th>event_date</th>\n",
       "      <th>event_revenue</th>\n",
       "      <th>cumulative_revenue</th>\n",
       "      <th>revenue_change_percentage</th>\n",
       "    </tr>\n",
       "  </thead>\n",
       "  <tbody>\n",
       "    <tr>\n",
       "      <th>0</th>\n",
       "      <td>2023-09-21</td>\n",
       "      <td>2023-09-21</td>\n",
       "      <td>251.841119</td>\n",
       "      <td>251.841119</td>\n",
       "      <td>0.0</td>\n",
       "    </tr>\n",
       "    <tr>\n",
       "      <th>1</th>\n",
       "      <td>2023-09-21</td>\n",
       "      <td>2023-09-22</td>\n",
       "      <td>90.565458</td>\n",
       "      <td>342.406577</td>\n",
       "      <td>-64.0</td>\n",
       "    </tr>\n",
       "    <tr>\n",
       "      <th>2</th>\n",
       "      <td>2023-09-21</td>\n",
       "      <td>2023-09-23</td>\n",
       "      <td>56.141451</td>\n",
       "      <td>398.548028</td>\n",
       "      <td>-38.0</td>\n",
       "    </tr>\n",
       "    <tr>\n",
       "      <th>3</th>\n",
       "      <td>2023-09-21</td>\n",
       "      <td>2023-09-24</td>\n",
       "      <td>41.126944</td>\n",
       "      <td>439.674972</td>\n",
       "      <td>-26.7</td>\n",
       "    </tr>\n",
       "    <tr>\n",
       "      <th>4</th>\n",
       "      <td>2023-09-21</td>\n",
       "      <td>2023-09-25</td>\n",
       "      <td>33.507381</td>\n",
       "      <td>473.182353</td>\n",
       "      <td>-18.5</td>\n",
       "    </tr>\n",
       "    <tr>\n",
       "      <th>5</th>\n",
       "      <td>2023-09-21</td>\n",
       "      <td>2023-09-26</td>\n",
       "      <td>24.621159</td>\n",
       "      <td>497.803512</td>\n",
       "      <td>-26.5</td>\n",
       "    </tr>\n",
       "    <tr>\n",
       "      <th>6</th>\n",
       "      <td>2023-09-21</td>\n",
       "      <td>2023-09-27</td>\n",
       "      <td>22.338273</td>\n",
       "      <td>520.141785</td>\n",
       "      <td>-9.3</td>\n",
       "    </tr>\n",
       "    <tr>\n",
       "      <th>7</th>\n",
       "      <td>2023-09-21</td>\n",
       "      <td>2023-09-28</td>\n",
       "      <td>15.735000</td>\n",
       "      <td>535.876785</td>\n",
       "      <td>-29.6</td>\n",
       "    </tr>\n",
       "    <tr>\n",
       "      <th>8</th>\n",
       "      <td>2023-09-21</td>\n",
       "      <td>2023-09-29</td>\n",
       "      <td>15.875869</td>\n",
       "      <td>551.752654</td>\n",
       "      <td>0.9</td>\n",
       "    </tr>\n",
       "    <tr>\n",
       "      <th>9</th>\n",
       "      <td>2023-09-21</td>\n",
       "      <td>2023-09-30</td>\n",
       "      <td>13.824954</td>\n",
       "      <td>565.577608</td>\n",
       "      <td>-12.9</td>\n",
       "    </tr>\n",
       "  </tbody>\n",
       "</table>\n",
       "</div>"
      ],
      "text/plain": [
       "  install_date  event_date  event_revenue  cumulative_revenue  \\\n",
       "0   2023-09-21  2023-09-21     251.841119          251.841119   \n",
       "1   2023-09-21  2023-09-22      90.565458          342.406577   \n",
       "2   2023-09-21  2023-09-23      56.141451          398.548028   \n",
       "3   2023-09-21  2023-09-24      41.126944          439.674972   \n",
       "4   2023-09-21  2023-09-25      33.507381          473.182353   \n",
       "5   2023-09-21  2023-09-26      24.621159          497.803512   \n",
       "6   2023-09-21  2023-09-27      22.338273          520.141785   \n",
       "7   2023-09-21  2023-09-28      15.735000          535.876785   \n",
       "8   2023-09-21  2023-09-29      15.875869          551.752654   \n",
       "9   2023-09-21  2023-09-30      13.824954          565.577608   \n",
       "\n",
       "   revenue_change_percentage  \n",
       "0                        0.0  \n",
       "1                      -64.0  \n",
       "2                      -38.0  \n",
       "3                      -26.7  \n",
       "4                      -18.5  \n",
       "5                      -26.5  \n",
       "6                       -9.3  \n",
       "7                      -29.6  \n",
       "8                        0.9  \n",
       "9                      -12.9  "
      ]
     },
     "execution_count": 444,
     "metadata": {},
     "output_type": "execute_result"
    }
   ],
   "source": [
    "grouped_revenue_x.head(10)"
   ]
  },
  {
   "cell_type": "markdown",
   "id": "6e48bcd8",
   "metadata": {},
   "source": [
    "Этим действием хочу в дальнейшем вычеслить среднее изменение прибыльности когорт\n",
    "___\n",
    "Выделю в отдельный столбец ревеню n-го дня для каждой из когорт"
   ]
  },
  {
   "cell_type": "code",
   "execution_count": 445,
   "id": "143079dd",
   "metadata": {},
   "outputs": [],
   "source": [
    "grouped_revenue_x['date_difference'] = grouped_revenue_x['event_date'] - grouped_revenue_x['install_date']"
   ]
  },
  {
   "cell_type": "markdown",
   "id": "24cb12cd",
   "metadata": {},
   "source": [
    "Построим матрицы"
   ]
  },
  {
   "cell_type": "code",
   "execution_count": 446,
   "id": "be01be3a",
   "metadata": {},
   "outputs": [
    {
     "data": {
      "text/html": [
       "<div>\n",
       "<style scoped>\n",
       "    .dataframe tbody tr th:only-of-type {\n",
       "        vertical-align: middle;\n",
       "    }\n",
       "\n",
       "    .dataframe tbody tr th {\n",
       "        vertical-align: top;\n",
       "    }\n",
       "\n",
       "    .dataframe thead th {\n",
       "        text-align: right;\n",
       "    }\n",
       "</style>\n",
       "<table border=\"1\" class=\"dataframe\">\n",
       "  <thead>\n",
       "    <tr style=\"text-align: right;\">\n",
       "      <th>install_date</th>\n",
       "      <th>2023-09-21</th>\n",
       "      <th>2023-09-22</th>\n",
       "      <th>2023-09-23</th>\n",
       "      <th>2023-09-24</th>\n",
       "      <th>2023-09-25</th>\n",
       "      <th>2023-09-26</th>\n",
       "      <th>2023-09-27</th>\n",
       "      <th>2023-09-28</th>\n",
       "    </tr>\n",
       "    <tr>\n",
       "      <th>date_difference</th>\n",
       "      <th></th>\n",
       "      <th></th>\n",
       "      <th></th>\n",
       "      <th></th>\n",
       "      <th></th>\n",
       "      <th></th>\n",
       "      <th></th>\n",
       "      <th></th>\n",
       "    </tr>\n",
       "  </thead>\n",
       "  <tbody>\n",
       "    <tr>\n",
       "      <th>0 days</th>\n",
       "      <td>251.841119</td>\n",
       "      <td>300.111305</td>\n",
       "      <td>306.577607</td>\n",
       "      <td>482.915337</td>\n",
       "      <td>694.915775</td>\n",
       "      <td>758.604056</td>\n",
       "      <td>813.666756</td>\n",
       "      <td>731.685673</td>\n",
       "    </tr>\n",
       "    <tr>\n",
       "      <th>1 days</th>\n",
       "      <td>90.565458</td>\n",
       "      <td>103.674790</td>\n",
       "      <td>145.538263</td>\n",
       "      <td>176.550508</td>\n",
       "      <td>283.410680</td>\n",
       "      <td>335.289463</td>\n",
       "      <td>333.311222</td>\n",
       "      <td>294.772395</td>\n",
       "    </tr>\n",
       "    <tr>\n",
       "      <th>2 days</th>\n",
       "      <td>56.141451</td>\n",
       "      <td>51.588687</td>\n",
       "      <td>72.104858</td>\n",
       "      <td>116.522508</td>\n",
       "      <td>159.793374</td>\n",
       "      <td>181.071213</td>\n",
       "      <td>206.490531</td>\n",
       "      <td>173.878655</td>\n",
       "    </tr>\n",
       "    <tr>\n",
       "      <th>3 days</th>\n",
       "      <td>41.126944</td>\n",
       "      <td>38.160328</td>\n",
       "      <td>57.893249</td>\n",
       "      <td>81.355243</td>\n",
       "      <td>148.827189</td>\n",
       "      <td>166.798679</td>\n",
       "      <td>143.198909</td>\n",
       "      <td>NaN</td>\n",
       "    </tr>\n",
       "    <tr>\n",
       "      <th>4 days</th>\n",
       "      <td>33.507381</td>\n",
       "      <td>40.813402</td>\n",
       "      <td>46.839055</td>\n",
       "      <td>69.221092</td>\n",
       "      <td>93.082035</td>\n",
       "      <td>135.538229</td>\n",
       "      <td>NaN</td>\n",
       "      <td>NaN</td>\n",
       "    </tr>\n",
       "    <tr>\n",
       "      <th>5 days</th>\n",
       "      <td>24.621159</td>\n",
       "      <td>30.652771</td>\n",
       "      <td>40.534951</td>\n",
       "      <td>43.504135</td>\n",
       "      <td>78.767815</td>\n",
       "      <td>NaN</td>\n",
       "      <td>NaN</td>\n",
       "      <td>NaN</td>\n",
       "    </tr>\n",
       "    <tr>\n",
       "      <th>6 days</th>\n",
       "      <td>22.338273</td>\n",
       "      <td>22.257539</td>\n",
       "      <td>38.498643</td>\n",
       "      <td>42.352191</td>\n",
       "      <td>NaN</td>\n",
       "      <td>NaN</td>\n",
       "      <td>NaN</td>\n",
       "      <td>NaN</td>\n",
       "    </tr>\n",
       "    <tr>\n",
       "      <th>7 days</th>\n",
       "      <td>15.735000</td>\n",
       "      <td>20.274095</td>\n",
       "      <td>34.292606</td>\n",
       "      <td>NaN</td>\n",
       "      <td>NaN</td>\n",
       "      <td>NaN</td>\n",
       "      <td>NaN</td>\n",
       "      <td>NaN</td>\n",
       "    </tr>\n",
       "    <tr>\n",
       "      <th>8 days</th>\n",
       "      <td>15.875869</td>\n",
       "      <td>27.931508</td>\n",
       "      <td>NaN</td>\n",
       "      <td>NaN</td>\n",
       "      <td>NaN</td>\n",
       "      <td>NaN</td>\n",
       "      <td>NaN</td>\n",
       "      <td>NaN</td>\n",
       "    </tr>\n",
       "    <tr>\n",
       "      <th>9 days</th>\n",
       "      <td>13.824954</td>\n",
       "      <td>NaN</td>\n",
       "      <td>NaN</td>\n",
       "      <td>NaN</td>\n",
       "      <td>NaN</td>\n",
       "      <td>NaN</td>\n",
       "      <td>NaN</td>\n",
       "      <td>NaN</td>\n",
       "    </tr>\n",
       "  </tbody>\n",
       "</table>\n",
       "</div>"
      ],
      "text/plain": [
       "install_date     2023-09-21  2023-09-22  2023-09-23  2023-09-24  2023-09-25  \\\n",
       "date_difference                                                               \n",
       "0 days           251.841119  300.111305  306.577607  482.915337  694.915775   \n",
       "1 days            90.565458  103.674790  145.538263  176.550508  283.410680   \n",
       "2 days            56.141451   51.588687   72.104858  116.522508  159.793374   \n",
       "3 days            41.126944   38.160328   57.893249   81.355243  148.827189   \n",
       "4 days            33.507381   40.813402   46.839055   69.221092   93.082035   \n",
       "5 days            24.621159   30.652771   40.534951   43.504135   78.767815   \n",
       "6 days            22.338273   22.257539   38.498643   42.352191         NaN   \n",
       "7 days            15.735000   20.274095   34.292606         NaN         NaN   \n",
       "8 days            15.875869   27.931508         NaN         NaN         NaN   \n",
       "9 days            13.824954         NaN         NaN         NaN         NaN   \n",
       "\n",
       "install_date     2023-09-26  2023-09-27  2023-09-28  \n",
       "date_difference                                      \n",
       "0 days           758.604056  813.666756  731.685673  \n",
       "1 days           335.289463  333.311222  294.772395  \n",
       "2 days           181.071213  206.490531  173.878655  \n",
       "3 days           166.798679  143.198909         NaN  \n",
       "4 days           135.538229         NaN         NaN  \n",
       "5 days                  NaN         NaN         NaN  \n",
       "6 days                  NaN         NaN         NaN  \n",
       "7 days                  NaN         NaN         NaN  \n",
       "8 days                  NaN         NaN         NaN  \n",
       "9 days                  NaN         NaN         NaN  "
      ]
     },
     "execution_count": 446,
     "metadata": {},
     "output_type": "execute_result"
    }
   ],
   "source": [
    "grouped_revenue_x.pivot_table(index='date_difference', values='event_revenue', columns='install_date')"
   ]
  },
  {
   "cell_type": "code",
   "execution_count": 447,
   "id": "08fe1cd8",
   "metadata": {},
   "outputs": [
    {
     "data": {
      "text/html": [
       "<div>\n",
       "<style scoped>\n",
       "    .dataframe tbody tr th:only-of-type {\n",
       "        vertical-align: middle;\n",
       "    }\n",
       "\n",
       "    .dataframe tbody tr th {\n",
       "        vertical-align: top;\n",
       "    }\n",
       "\n",
       "    .dataframe thead th {\n",
       "        text-align: right;\n",
       "    }\n",
       "</style>\n",
       "<table border=\"1\" class=\"dataframe\">\n",
       "  <thead>\n",
       "    <tr style=\"text-align: right;\">\n",
       "      <th>install_date</th>\n",
       "      <th>2023-09-21</th>\n",
       "      <th>2023-09-22</th>\n",
       "      <th>2023-09-23</th>\n",
       "      <th>2023-09-24</th>\n",
       "      <th>2023-09-25</th>\n",
       "      <th>2023-09-26</th>\n",
       "      <th>2023-09-27</th>\n",
       "      <th>2023-09-28</th>\n",
       "    </tr>\n",
       "    <tr>\n",
       "      <th>date_difference</th>\n",
       "      <th></th>\n",
       "      <th></th>\n",
       "      <th></th>\n",
       "      <th></th>\n",
       "      <th></th>\n",
       "      <th></th>\n",
       "      <th></th>\n",
       "      <th></th>\n",
       "    </tr>\n",
       "  </thead>\n",
       "  <tbody>\n",
       "    <tr>\n",
       "      <th>0 days</th>\n",
       "      <td>0.0</td>\n",
       "      <td>0.0</td>\n",
       "      <td>0.0</td>\n",
       "      <td>0.0</td>\n",
       "      <td>0.0</td>\n",
       "      <td>0.0</td>\n",
       "      <td>0.0</td>\n",
       "      <td>0.0</td>\n",
       "    </tr>\n",
       "    <tr>\n",
       "      <th>1 days</th>\n",
       "      <td>-64.0</td>\n",
       "      <td>-65.5</td>\n",
       "      <td>-52.5</td>\n",
       "      <td>-63.4</td>\n",
       "      <td>-59.2</td>\n",
       "      <td>-55.8</td>\n",
       "      <td>-59.0</td>\n",
       "      <td>-59.7</td>\n",
       "    </tr>\n",
       "    <tr>\n",
       "      <th>2 days</th>\n",
       "      <td>-38.0</td>\n",
       "      <td>-50.2</td>\n",
       "      <td>-50.5</td>\n",
       "      <td>-34.0</td>\n",
       "      <td>-43.6</td>\n",
       "      <td>-46.0</td>\n",
       "      <td>-38.0</td>\n",
       "      <td>-41.0</td>\n",
       "    </tr>\n",
       "    <tr>\n",
       "      <th>3 days</th>\n",
       "      <td>-26.7</td>\n",
       "      <td>-26.0</td>\n",
       "      <td>-19.7</td>\n",
       "      <td>-30.2</td>\n",
       "      <td>-6.9</td>\n",
       "      <td>-7.9</td>\n",
       "      <td>-30.7</td>\n",
       "      <td>NaN</td>\n",
       "    </tr>\n",
       "    <tr>\n",
       "      <th>4 days</th>\n",
       "      <td>-18.5</td>\n",
       "      <td>7.0</td>\n",
       "      <td>-19.1</td>\n",
       "      <td>-14.9</td>\n",
       "      <td>-37.5</td>\n",
       "      <td>-18.7</td>\n",
       "      <td>NaN</td>\n",
       "      <td>NaN</td>\n",
       "    </tr>\n",
       "    <tr>\n",
       "      <th>5 days</th>\n",
       "      <td>-26.5</td>\n",
       "      <td>-24.9</td>\n",
       "      <td>-13.5</td>\n",
       "      <td>-37.2</td>\n",
       "      <td>-15.4</td>\n",
       "      <td>NaN</td>\n",
       "      <td>NaN</td>\n",
       "      <td>NaN</td>\n",
       "    </tr>\n",
       "    <tr>\n",
       "      <th>6 days</th>\n",
       "      <td>-9.3</td>\n",
       "      <td>-27.4</td>\n",
       "      <td>-5.0</td>\n",
       "      <td>-2.6</td>\n",
       "      <td>NaN</td>\n",
       "      <td>NaN</td>\n",
       "      <td>NaN</td>\n",
       "      <td>NaN</td>\n",
       "    </tr>\n",
       "    <tr>\n",
       "      <th>7 days</th>\n",
       "      <td>-29.6</td>\n",
       "      <td>-8.9</td>\n",
       "      <td>-10.9</td>\n",
       "      <td>NaN</td>\n",
       "      <td>NaN</td>\n",
       "      <td>NaN</td>\n",
       "      <td>NaN</td>\n",
       "      <td>NaN</td>\n",
       "    </tr>\n",
       "    <tr>\n",
       "      <th>8 days</th>\n",
       "      <td>0.9</td>\n",
       "      <td>37.8</td>\n",
       "      <td>NaN</td>\n",
       "      <td>NaN</td>\n",
       "      <td>NaN</td>\n",
       "      <td>NaN</td>\n",
       "      <td>NaN</td>\n",
       "      <td>NaN</td>\n",
       "    </tr>\n",
       "    <tr>\n",
       "      <th>9 days</th>\n",
       "      <td>-12.9</td>\n",
       "      <td>NaN</td>\n",
       "      <td>NaN</td>\n",
       "      <td>NaN</td>\n",
       "      <td>NaN</td>\n",
       "      <td>NaN</td>\n",
       "      <td>NaN</td>\n",
       "      <td>NaN</td>\n",
       "    </tr>\n",
       "  </tbody>\n",
       "</table>\n",
       "</div>"
      ],
      "text/plain": [
       "install_date     2023-09-21  2023-09-22  2023-09-23  2023-09-24  2023-09-25  \\\n",
       "date_difference                                                               \n",
       "0 days                  0.0         0.0         0.0         0.0         0.0   \n",
       "1 days                -64.0       -65.5       -52.5       -63.4       -59.2   \n",
       "2 days                -38.0       -50.2       -50.5       -34.0       -43.6   \n",
       "3 days                -26.7       -26.0       -19.7       -30.2        -6.9   \n",
       "4 days                -18.5         7.0       -19.1       -14.9       -37.5   \n",
       "5 days                -26.5       -24.9       -13.5       -37.2       -15.4   \n",
       "6 days                 -9.3       -27.4        -5.0        -2.6         NaN   \n",
       "7 days                -29.6        -8.9       -10.9         NaN         NaN   \n",
       "8 days                  0.9        37.8         NaN         NaN         NaN   \n",
       "9 days                -12.9         NaN         NaN         NaN         NaN   \n",
       "\n",
       "install_date     2023-09-26  2023-09-27  2023-09-28  \n",
       "date_difference                                      \n",
       "0 days                  0.0         0.0         0.0  \n",
       "1 days                -55.8       -59.0       -59.7  \n",
       "2 days                -46.0       -38.0       -41.0  \n",
       "3 days                 -7.9       -30.7         NaN  \n",
       "4 days                -18.7         NaN         NaN  \n",
       "5 days                  NaN         NaN         NaN  \n",
       "6 days                  NaN         NaN         NaN  \n",
       "7 days                  NaN         NaN         NaN  \n",
       "8 days                  NaN         NaN         NaN  \n",
       "9 days                  NaN         NaN         NaN  "
      ]
     },
     "execution_count": 447,
     "metadata": {},
     "output_type": "execute_result"
    }
   ],
   "source": [
    "grouped_revenue_x.pivot_table(index='date_difference', values='revenue_change_percentage', columns='install_date')"
   ]
  },
  {
   "cell_type": "markdown",
   "id": "0fb3b129",
   "metadata": {},
   "source": [
    "Теперь можно вывести средние значения"
   ]
  },
  {
   "cell_type": "code",
   "execution_count": 448,
   "id": "cb3af0d6",
   "metadata": {},
   "outputs": [],
   "source": [
    "average_revenue_change = round(grouped_revenue_x.pivot_table(index='date_difference', values='revenue_change_percentage', columns='install_date').mean(axis=1), 1)"
   ]
  },
  {
   "cell_type": "code",
   "execution_count": 449,
   "id": "d6cc6fe1",
   "metadata": {},
   "outputs": [
    {
     "data": {
      "text/plain": [
       "date_difference\n",
       "0 days     0.0\n",
       "1 days   -59.9\n",
       "2 days   -42.7\n",
       "3 days   -21.2\n",
       "4 days   -17.0\n",
       "5 days   -23.5\n",
       "6 days   -11.1\n",
       "7 days   -16.5\n",
       "8 days    19.3\n",
       "9 days   -12.9\n",
       "dtype: float64"
      ]
     },
     "execution_count": 449,
     "metadata": {},
     "output_type": "execute_result"
    }
   ],
   "source": [
    "average_revenue_change"
   ]
  },
  {
   "cell_type": "markdown",
   "id": "87bc02a7",
   "metadata": {},
   "source": [
    "Заменим среднее для 8-го дня, ибо данное число сильно выбивается из ряда"
   ]
  },
  {
   "cell_type": "code",
   "execution_count": 450,
   "id": "744fa00f",
   "metadata": {},
   "outputs": [],
   "source": [
    "modified_revenue_change_df = average_revenue_change.copy()\n",
    "\n",
    "modified_revenue_change_df.loc[pd.Timedelta(days=8)] = -14\n",
    "\n",
    "modified_revenue_change_df = modified_revenue_change_df.reset_index()\n",
    "\n",
    "modified_revenue_change_df.rename(columns = {0:'revenue_change_percentage'}, inplace = True )"
   ]
  },
  {
   "cell_type": "code",
   "execution_count": 451,
   "id": "6948bc23",
   "metadata": {},
   "outputs": [
    {
     "data": {
      "text/html": [
       "<div>\n",
       "<style scoped>\n",
       "    .dataframe tbody tr th:only-of-type {\n",
       "        vertical-align: middle;\n",
       "    }\n",
       "\n",
       "    .dataframe tbody tr th {\n",
       "        vertical-align: top;\n",
       "    }\n",
       "\n",
       "    .dataframe thead th {\n",
       "        text-align: right;\n",
       "    }\n",
       "</style>\n",
       "<table border=\"1\" class=\"dataframe\">\n",
       "  <thead>\n",
       "    <tr style=\"text-align: right;\">\n",
       "      <th></th>\n",
       "      <th>date_difference</th>\n",
       "      <th>revenue_change_percentage</th>\n",
       "    </tr>\n",
       "  </thead>\n",
       "  <tbody>\n",
       "    <tr>\n",
       "      <th>0</th>\n",
       "      <td>0 days</td>\n",
       "      <td>0.0</td>\n",
       "    </tr>\n",
       "    <tr>\n",
       "      <th>1</th>\n",
       "      <td>1 days</td>\n",
       "      <td>-59.9</td>\n",
       "    </tr>\n",
       "    <tr>\n",
       "      <th>2</th>\n",
       "      <td>2 days</td>\n",
       "      <td>-42.7</td>\n",
       "    </tr>\n",
       "    <tr>\n",
       "      <th>3</th>\n",
       "      <td>3 days</td>\n",
       "      <td>-21.2</td>\n",
       "    </tr>\n",
       "    <tr>\n",
       "      <th>4</th>\n",
       "      <td>4 days</td>\n",
       "      <td>-17.0</td>\n",
       "    </tr>\n",
       "    <tr>\n",
       "      <th>5</th>\n",
       "      <td>5 days</td>\n",
       "      <td>-23.5</td>\n",
       "    </tr>\n",
       "    <tr>\n",
       "      <th>6</th>\n",
       "      <td>6 days</td>\n",
       "      <td>-11.1</td>\n",
       "    </tr>\n",
       "    <tr>\n",
       "      <th>7</th>\n",
       "      <td>7 days</td>\n",
       "      <td>-16.5</td>\n",
       "    </tr>\n",
       "    <tr>\n",
       "      <th>8</th>\n",
       "      <td>8 days</td>\n",
       "      <td>-14.0</td>\n",
       "    </tr>\n",
       "    <tr>\n",
       "      <th>9</th>\n",
       "      <td>9 days</td>\n",
       "      <td>-12.9</td>\n",
       "    </tr>\n",
       "  </tbody>\n",
       "</table>\n",
       "</div>"
      ],
      "text/plain": [
       "  date_difference  revenue_change_percentage\n",
       "0          0 days                        0.0\n",
       "1          1 days                      -59.9\n",
       "2          2 days                      -42.7\n",
       "3          3 days                      -21.2\n",
       "4          4 days                      -17.0\n",
       "5          5 days                      -23.5\n",
       "6          6 days                      -11.1\n",
       "7          7 days                      -16.5\n",
       "8          8 days                      -14.0\n",
       "9          9 days                      -12.9"
      ]
     },
     "execution_count": 451,
     "metadata": {},
     "output_type": "execute_result"
    }
   ],
   "source": [
    "modified_revenue_change_df"
   ]
  },
  {
   "cell_type": "markdown",
   "id": "4e24111f",
   "metadata": {},
   "source": [
    "Теперь с помощью этих значений попробуем спрогнозировать ревеню каждого (до 9-го) дня для каждой когорты"
   ]
  },
  {
   "cell_type": "code",
   "execution_count": 452,
   "id": "8457c04a",
   "metadata": {},
   "outputs": [
    {
     "name": "stdout",
     "output_type": "stream",
     "text": [
      "timedelta64[ns]\n"
     ]
    }
   ],
   "source": [
    "# Проверим тип данных в столбце 'date_difference' в modified_revenue_change_df\n",
    "print(modified_revenue_change_df['date_difference'].dtype)\n",
    "\n",
    "# Если 'date_difference' уже в правильном формате, то преобразование не требуется\n",
    "if modified_revenue_change_df['date_difference'].dtype == 'O':\n",
    "    # Преобразуем столбец 'date_difference' в тип timedelta, если он строковый\n",
    "    modified_revenue_change_df['date_difference'] = pd.to_timedelta(\n",
    "        modified_revenue_change_df['date_difference'].str.replace(' days', '').astype(int), unit='d'\n",
    "    )\n",
    "else:\n",
    "    # Если столбец уже в виде чисел, преобразуем напрямую\n",
    "    modified_revenue_change_df['date_difference'] = pd.to_timedelta(\n",
    "        modified_revenue_change_df['date_difference'], unit='d'\n",
    "    )\n",
    "\n",
    "# Функция для прогнозирования недостающих значений event_revenue\n",
    "def forecast_missing_revenues(cohort_df, avg_revenue_change_df):\n",
    "    max_known_day = cohort_df['date_difference'].max()\n",
    "    last_known_revenue = cohort_df[cohort_df['date_difference'] == max_known_day]['event_revenue'].values[0]\n",
    "\n",
    "    # Создаем список для хранения прогнозируемых значений\n",
    "    predictions = []\n",
    "\n",
    "    for day_diff in avg_revenue_change_df['date_difference']:\n",
    "        if day_diff > max_known_day:\n",
    "            revenue_change_percentage = avg_revenue_change_df.loc[\n",
    "                avg_revenue_change_df['date_difference'] == day_diff, \n",
    "                'revenue_change_percentage'\n",
    "            ].values[0]\n",
    "            predicted_revenue = last_known_revenue * (1 + revenue_change_percentage / 100)\n",
    "            last_known_revenue = predicted_revenue\n",
    "            predictions.append({\n",
    "                'install_date': cohort_df['install_date'].iloc[0],\n",
    "                'date_difference': day_diff,\n",
    "                'event_revenue': predicted_revenue\n",
    "            })\n",
    "\n",
    "    return pd.DataFrame(predictions)\n",
    "\n",
    "# Применяем прогнозирование для каждой когорты\n",
    "predicted_revenues = []\n",
    "\n",
    "for install_date in grouped_revenue_x['install_date'].unique():\n",
    "    cohort = grouped_revenue_x[grouped_revenue_x['install_date'] == install_date]\n",
    "    predictions = forecast_missing_revenues(cohort, modified_revenue_change_df)\n",
    "    predicted_revenues.append(predictions)\n",
    "\n",
    "# Объединяем все прогнозы в один DataFrame\n",
    "predicted_revenues_df = pd.concat(predicted_revenues, ignore_index=True)\n",
    "\n",
    "# Объединяем с исходными данными\n",
    "grouped_revenue_x_full = pd.concat([grouped_revenue_x, predicted_revenues_df], ignore_index=True)\n",
    "\n",
    "# Сортируем данные по install_date и date_difference для удобства анализа\n",
    "grouped_revenue_x_full = grouped_revenue_x_full.sort_values(by=['install_date', 'date_difference']).reset_index()"
   ]
  },
  {
   "cell_type": "markdown",
   "id": "d8799040",
   "metadata": {},
   "source": [
    "В процессе преобразований образовались пустые значения в столбцах, в частоности в `event_date` и `cumulative_revenue`. Заполним нужными нам значениями"
   ]
  },
  {
   "cell_type": "code",
   "execution_count": 453,
   "id": "b08549eb",
   "metadata": {},
   "outputs": [
    {
     "name": "stdout",
     "output_type": "stream",
     "text": [
      "timedelta64[ns]\n"
     ]
    }
   ],
   "source": [
    "# Преобразуем 'install_date' в тип datetime\n",
    "grouped_revenue_x_full['install_date'] = pd.to_datetime(grouped_revenue_x_full['install_date'])\n",
    "\n",
    "# Проверяем тип данных в 'date_difference'\n",
    "print(grouped_revenue_x_full['date_difference'].dtype)\n",
    "\n",
    "# Если 'date_difference' в строковом формате, извлекаем количество дней\n",
    "if grouped_revenue_x_full['date_difference'].dtype == 'object':\n",
    "    grouped_revenue_x_full['date_difference'] = grouped_revenue_x_full['date_difference'].astype(str)\n",
    "    grouped_revenue_x_full['date_difference'] = grouped_revenue_x_full['date_difference'].str.extract('(\\d+)').astype(float)\n",
    "\n",
    "# Преобразуем 'date_difference' в тип timedelta\n",
    "grouped_revenue_x_full['date_difference'] = pd.to_timedelta(grouped_revenue_x_full['date_difference'], unit='D')\n",
    "\n",
    "# Обрабатываем NaN значения в 'date_difference'\n",
    "grouped_revenue_x_full['date_difference'].fillna(pd.Timedelta(0), inplace=True)\n",
    "\n",
    "# Вычисляем 'event_date'\n",
    "grouped_revenue_x_full['event_date'] = grouped_revenue_x_full['install_date'] + grouped_revenue_x_full['date_difference']\n",
    "\n",
    "# Заполняем 'cumulative_revenue'\n",
    "grouped_revenue_x_full['cumulative_revenue'] = grouped_revenue_x_full['event_revenue'].cumsum()"
   ]
  },
  {
   "cell_type": "code",
   "execution_count": 454,
   "id": "4e201743",
   "metadata": {},
   "outputs": [],
   "source": [
    "grouped_revenue_x_full['event_date'] = pd.to_datetime(grouped_revenue_x_full['event_date']).dt.date\n",
    "grouped_revenue_x_full['install_date'] = pd.to_datetime(grouped_revenue_x_full['install_date']).dt.date"
   ]
  },
  {
   "cell_type": "markdown",
   "id": "8e7e44d8",
   "metadata": {},
   "source": [
    "Взглянем на обновленный график"
   ]
  },
  {
   "cell_type": "code",
   "execution_count": 455,
   "id": "354a2fc5",
   "metadata": {},
   "outputs": [
    {
     "data": {
      "image/png": "[encoded data removed]",
      "text/plain": [
       "<Figure size 800x500 with 1 Axes>"
      ]
     },
     "metadata": {},
     "output_type": "display_data"
    }
   ],
   "source": [
    "unique_install_dates = grouped_revenue_x_full['install_date'].unique()\n",
    "\n",
    "plt.figure(figsize=(8, 5))\n",
    "\n",
    "for date in unique_install_dates:\n",
    "    cohort_data = grouped_revenue_x_full[grouped_revenue_x_full['install_date'] == date]\n",
    "    plt.plot(cohort_data['event_date'], cohort_data['event_revenue'], marker='o', label=f'Когорта {date}')\n",
    "\n",
    "plt.xlabel('Даты')\n",
    "plt.ylabel('Прибыль по дням')\n",
    "plt.xticks(rotation=45)\n",
    "plt.legend(title='Install Date')\n",
    "plt.grid(True)\n",
    "plt.legend(loc='upper right', bbox_to_anchor=(1.4, 0.6))\n",
    "plt.show()"
   ]
  },
  {
   "cell_type": "markdown",
   "id": "27e07ff7",
   "metadata": {},
   "source": [
    "Посчитаем средний чек от установки для каждой когорты"
   ]
  },
  {
   "cell_type": "code",
   "execution_count": 456,
   "id": "43b59e73",
   "metadata": {},
   "outputs": [],
   "source": [
    "avg_rev = grouped_revenue_x_full.groupby('install_date')['event_revenue'].sum().reset_index()"
   ]
  },
  {
   "cell_type": "code",
   "execution_count": 457,
   "id": "c3bdd018",
   "metadata": {},
   "outputs": [],
   "source": [
    "avg_rev['installs'] = df_installs_dates['installs']"
   ]
  },
  {
   "cell_type": "code",
   "execution_count": 458,
   "id": "5bfcc2e6",
   "metadata": {},
   "outputs": [],
   "source": [
    "avg_rev['rev_per_install'] = avg_rev['event_revenue'] / avg_rev['installs']"
   ]
  },
  {
   "cell_type": "code",
   "execution_count": 459,
   "id": "9ddb7fff",
   "metadata": {},
   "outputs": [
    {
     "data": {
      "text/html": [
       "<div>\n",
       "<style scoped>\n",
       "    .dataframe tbody tr th:only-of-type {\n",
       "        vertical-align: middle;\n",
       "    }\n",
       "\n",
       "    .dataframe tbody tr th {\n",
       "        vertical-align: top;\n",
       "    }\n",
       "\n",
       "    .dataframe thead th {\n",
       "        text-align: right;\n",
       "    }\n",
       "</style>\n",
       "<table border=\"1\" class=\"dataframe\">\n",
       "  <thead>\n",
       "    <tr style=\"text-align: right;\">\n",
       "      <th></th>\n",
       "      <th>install_date</th>\n",
       "      <th>event_revenue</th>\n",
       "      <th>installs</th>\n",
       "      <th>rev_per_install</th>\n",
       "    </tr>\n",
       "  </thead>\n",
       "  <tbody>\n",
       "    <tr>\n",
       "      <th>0</th>\n",
       "      <td>2023-09-21</td>\n",
       "      <td>565.577608</td>\n",
       "      <td>718</td>\n",
       "      <td>0.787713</td>\n",
       "    </tr>\n",
       "    <tr>\n",
       "      <th>1</th>\n",
       "      <td>2023-09-22</td>\n",
       "      <td>659.792768</td>\n",
       "      <td>671</td>\n",
       "      <td>0.983298</td>\n",
       "    </tr>\n",
       "    <tr>\n",
       "      <th>2</th>\n",
       "      <td>2023-09-23</td>\n",
       "      <td>797.458093</td>\n",
       "      <td>693</td>\n",
       "      <td>1.150733</td>\n",
       "    </tr>\n",
       "    <tr>\n",
       "      <th>3</th>\n",
       "      <td>2023-09-24</td>\n",
       "      <td>1104.688019</td>\n",
       "      <td>891</td>\n",
       "      <td>1.239829</td>\n",
       "    </tr>\n",
       "    <tr>\n",
       "      <th>4</th>\n",
       "      <td>2023-09-25</td>\n",
       "      <td>1681.374578</td>\n",
       "      <td>1349</td>\n",
       "      <td>1.246386</td>\n",
       "    </tr>\n",
       "    <tr>\n",
       "      <th>5</th>\n",
       "      <td>2023-09-26</td>\n",
       "      <td>1973.980622</td>\n",
       "      <td>1612</td>\n",
       "      <td>1.224554</td>\n",
       "    </tr>\n",
       "    <tr>\n",
       "      <th>6</th>\n",
       "      <td>2023-09-27</td>\n",
       "      <td>1963.375057</td>\n",
       "      <td>1649</td>\n",
       "      <td>1.190646</td>\n",
       "    </tr>\n",
       "    <tr>\n",
       "      <th>7</th>\n",
       "      <td>2023-09-28</td>\n",
       "      <td>1783.910914</td>\n",
       "      <td>1594</td>\n",
       "      <td>1.119141</td>\n",
       "    </tr>\n",
       "  </tbody>\n",
       "</table>\n",
       "</div>"
      ],
      "text/plain": [
       "  install_date  event_revenue  installs  rev_per_install\n",
       "0   2023-09-21     565.577608       718         0.787713\n",
       "1   2023-09-22     659.792768       671         0.983298\n",
       "2   2023-09-23     797.458093       693         1.150733\n",
       "3   2023-09-24    1104.688019       891         1.239829\n",
       "4   2023-09-25    1681.374578      1349         1.246386\n",
       "5   2023-09-26    1973.980622      1612         1.224554\n",
       "6   2023-09-27    1963.375057      1649         1.190646\n",
       "7   2023-09-28    1783.910914      1594         1.119141"
      ]
     },
     "execution_count": 459,
     "metadata": {},
     "output_type": "execute_result"
    }
   ],
   "source": [
    "avg_rev"
   ]
  },
  {
   "cell_type": "code",
   "execution_count": 460,
   "id": "d8d315b3",
   "metadata": {},
   "outputs": [
    {
     "data": {
      "text/plain": [
       "1.147450981779908"
      ]
     },
     "execution_count": 460,
     "metadata": {},
     "output_type": "execute_result"
    }
   ],
   "source": [
    "avg_rev['event_revenue'].sum() / avg_rev['installs'].sum()"
   ]
  },
  {
   "cell_type": "markdown",
   "id": "6da29bd6",
   "metadata": {},
   "source": [
    "Суммируем ревеню с 0-го по 9-й день"
   ]
  },
  {
   "cell_type": "code",
   "execution_count": 461,
   "id": "d3021a43",
   "metadata": {},
   "outputs": [
    {
     "data": {
      "text/plain": [
       "10530.157659794215"
      ]
     },
     "execution_count": 461,
     "metadata": {},
     "output_type": "execute_result"
    }
   ],
   "source": [
    "avg_rev['event_revenue'].sum()"
   ]
  },
  {
   "cell_type": "markdown",
   "id": "d40765aa",
   "metadata": {},
   "source": [
    "Средняя прибыль от одной установки - 1.14\n",
    "Ревеню с нулевого по девятый день - 10530\n",
    "\n",
    "В задании есть вопросы о нарастании прибыли в первый месяц и сравнении ревеню 30-го дня. Чтобы спрогнозировать ревеню 30-го дня, используем модель прогнозирования **ARIMA**\n",
    "___\n",
    "Для простоты, выделим каждую когорту"
   ]
  },
  {
   "cell_type": "code",
   "execution_count": 462,
   "id": "eb88a70e",
   "metadata": {},
   "outputs": [],
   "source": [
    "coh_2023_09_21 = grouped_revenue_x_full[grouped_revenue_x_full['install_date'].astype(str) == \"2023-09-21\"].drop(columns=['revenue_change_percentage', 'date_difference'])\n",
    "coh_2023_09_22 = grouped_revenue_x_full[grouped_revenue_x_full['install_date'].astype(str) == \"2023-09-22\"].drop(columns=['revenue_change_percentage', 'date_difference'])\n",
    "coh_2023_09_23 = grouped_revenue_x_full[grouped_revenue_x_full['install_date'].astype(str) == \"2023-09-23\"].drop(columns=['revenue_change_percentage', 'date_difference'])\n",
    "coh_2023_09_24 = grouped_revenue_x_full[grouped_revenue_x_full['install_date'].astype(str) == \"2023-09-24\"].drop(columns=['revenue_change_percentage', 'date_difference'])\n",
    "coh_2023_09_25 = grouped_revenue_x_full[grouped_revenue_x_full['install_date'].astype(str) == \"2023-09-25\"].drop(columns=['revenue_change_percentage', 'date_difference'])\n",
    "coh_2023_09_26 = grouped_revenue_x_full[grouped_revenue_x_full['install_date'].astype(str) == \"2023-09-26\"].drop(columns=['revenue_change_percentage', 'date_difference'])\n",
    "coh_2023_09_27 = grouped_revenue_x_full[grouped_revenue_x_full['install_date'].astype(str) == \"2023-09-27\"].drop(columns=['revenue_change_percentage', 'date_difference'])\n",
    "coh_2023_09_28 = grouped_revenue_x_full[grouped_revenue_x_full['install_date'].astype(str) == \"2023-09-28\"].drop(columns=['revenue_change_percentage', 'date_difference'])"
   ]
  },
  {
   "cell_type": "markdown",
   "id": "02d5de91",
   "metadata": {},
   "source": [
    "Узнаем прогноз доходности для каждой когорты"
   ]
  },
  {
   "cell_type": "markdown",
   "id": "eedfcaa2",
   "metadata": {},
   "source": [
    "Когорта 2023-09-21"
   ]
  },
  {
   "cell_type": "code",
   "execution_count": 463,
   "id": "8cb52947",
   "metadata": {},
   "outputs": [
    {
     "data": {
      "text/plain": [
       "10    12.159622\n",
       "11    10.807381\n",
       "12     9.709368\n",
       "13     8.817787\n",
       "14     8.093828\n",
       "15     7.505977\n",
       "16     7.028646\n",
       "17     6.641055\n",
       "18     6.326333\n",
       "19     6.070780\n",
       "20     5.863273\n",
       "21     5.694778\n",
       "22     5.557961\n",
       "23     5.446867\n",
       "24     5.356658\n",
       "25     5.283410\n",
       "26     5.223932\n",
       "27     5.175637\n",
       "28     5.136421\n",
       "29     5.104578\n",
       "30     5.078722\n",
       "Name: predicted_mean, dtype: float64"
      ]
     },
     "execution_count": 463,
     "metadata": {},
     "output_type": "execute_result"
    }
   ],
   "source": [
    "# Обучение модели ARIMA\n",
    "model = ARIMA(coh_2023_09_21['event_revenue'], order=(1, 1, 0))  # Параметры модели (p, d, q)\n",
    "model_fit = model.fit()\n",
    "\n",
    "# Прогноз на будущее (до 2023-10-20)\n",
    "forecast_days = 21  # количество дней для прогноза\n",
    "forecast_2023_09_21 = model_fit.forecast(steps=forecast_days)\n",
    "\n",
    "# Прогнозируемые значения для когорты\n",
    "forecast_2023_09_21"
   ]
  },
  {
   "cell_type": "code",
   "execution_count": 464,
   "id": "2e25640a",
   "metadata": {},
   "outputs": [
    {
     "data": {
      "image/png": "[encoded data removed]",
      "text/plain": [
       "<Figure size 1000x400 with 1 Axes>"
      ]
     },
     "metadata": {},
     "output_type": "display_data"
    }
   ],
   "source": [
    "# Построение прогноза\n",
    "forecast_dates = pd.date_range(start=coh_2023_09_22['event_date'].iloc[-1] + pd.Timedelta(days=1), periods=forecast_days, freq='D')\n",
    "plt.figure(figsize=(10, 4))\n",
    "plt.plot(coh_2023_09_22['event_date'], coh_2023_09_22['event_revenue'], marker='o', label='Исторические данные')\n",
    "plt.plot(forecast_dates, forecast_2023_09_21, marker='x', color='red', label='Прогноз')\n",
    "plt.xlabel('Дата')\n",
    "plt.ylabel('Доход')\n",
    "plt.title('Прогноз доходов когорты 2023-09-21')\n",
    "plt.legend()\n",
    "plt.xticks(rotation=45)\n",
    "plt.grid(True)\n",
    "plt.show()"
   ]
  },
  {
   "cell_type": "markdown",
   "id": "121af462",
   "metadata": {},
   "source": [
    "Примерно такой уровень прибыли в первый месяц ожидается у когорты 2023-09-21\n",
    "___\n",
    "Спрогнзируем доходность у остальных когорт"
   ]
  },
  {
   "cell_type": "code",
   "execution_count": 465,
   "id": "0d2e33c5",
   "metadata": {},
   "outputs": [],
   "source": [
    "# Определяем дату для прогноза\n",
    "final_date = pd.to_datetime('2023-10-19')\n",
    "\n",
    "def pred_coh(coh):\n",
    "    # Преобразуем столбец install_date в pd.Timestamp\n",
    "    coh['install_date'] = pd.to_datetime(coh['install_date'])\n",
    "    \n",
    "    model = ARIMA(coh['event_revenue'], order=(1, 1, 0))  # Параметры модели (p, d, q)\n",
    "    model_fit = model.fit()\n",
    "\n",
    "    # Вычисляем количество дней для прогноза\n",
    "    forecast_days = 21\n",
    "\n",
    "    # Прогноз на будущее\n",
    "    forecast = model_fit.forecast(steps=forecast_days)\n",
    "    return forecast"
   ]
  },
  {
   "cell_type": "code",
   "execution_count": 466,
   "id": "c2fab3e0",
   "metadata": {},
   "outputs": [],
   "source": [
    "forecast_2023_09_22 = pred_coh(coh_2023_09_22)\n",
    "forecast_2023_09_23 = abs(pred_coh(coh_2023_09_23))\n",
    "forecast_2023_09_24 = pred_coh(coh_2023_09_24)\n",
    "forecast_2023_09_25 = pred_coh(coh_2023_09_25)\n",
    "forecast_2023_09_26 = pred_coh(coh_2023_09_26)\n",
    "forecast_2023_09_27 = pred_coh(coh_2023_09_27)\n",
    "forecast_2023_09_28 = pred_coh(coh_2023_09_28)"
   ]
  },
  {
   "cell_type": "code",
   "execution_count": 477,
   "id": "680d0fa6",
   "metadata": {},
   "outputs": [
    {
     "data": {
      "text/plain": [
       "10    42.342985\n",
       "11    37.265245\n",
       "12    32.990488\n",
       "13    29.391732\n",
       "14    26.362075\n",
       "15    23.811522\n",
       "16    21.664307\n",
       "17    19.856649\n",
       "18    18.334849\n",
       "19    17.053704\n",
       "20    15.975156\n",
       "21    15.067167\n",
       "22    14.302766\n",
       "23    13.659246\n",
       "24    13.117490\n",
       "25    12.661406\n",
       "26    12.277447\n",
       "27    11.954206\n",
       "28    11.682081\n",
       "29    11.452990\n",
       "30    11.260127\n",
       "Name: predicted_mean, dtype: float64"
      ]
     },
     "execution_count": 477,
     "metadata": {},
     "output_type": "execute_result"
    }
   ],
   "source": [
    "forecast_2023_09_28"
   ]
  },
  {
   "cell_type": "markdown",
   "id": "2c3ba43e",
   "metadata": {},
   "source": [
    "В `forecast_2023_09_23` были отрицательные значения, поэтому перевели их в положительные\n",
    "___\n",
    "Для интереса, суммируем прогнозируемую доходность всех когорт"
   ]
  },
  {
   "cell_type": "code",
   "execution_count": 468,
   "id": "d1f018dd",
   "metadata": {},
   "outputs": [
    {
     "data": {
      "text/plain": [
       "2466.764310833919"
      ]
     },
     "execution_count": 468,
     "metadata": {},
     "output_type": "execute_result"
    }
   ],
   "source": [
    "pred_total = (\n",
    "    forecast_2023_09_21.sum() + \n",
    "    forecast_2023_09_22.sum() +\n",
    "    forecast_2023_09_23.sum() +\n",
    "    forecast_2023_09_24.sum() +\n",
    "    forecast_2023_09_25.sum() +\n",
    "    forecast_2023_09_26.sum() +\n",
    "    forecast_2023_09_27.sum() +\n",
    "    forecast_2023_09_28.sum()\n",
    ")\n",
    "\n",
    "pred_total"
   ]
  },
  {
   "cell_type": "markdown",
   "id": "0cdc668f",
   "metadata": {},
   "source": [
    "Напомню, что прогнозируемая сумма ревеню 0d-9d равняется 10530, а реальная прибыль - **8688**. То есть крайние когорты доберут примерно 1842 в рамках ревеню 9d + прогнзируемые 2466 до конца месяца.\n",
    "\n",
    "Итого, прогнозируемый доход в первый месяц жизни у пользователей игры - **4308**\n",
    "___\n",
    "Теперь узнаем, во сколько раз увеличится ревеню нулевого дня (день установки игры), первого и третьего дня к 30-му дню\n",
    "\n",
    "Для этого суммируем последние значения из прогноза для каждой когорты"
   ]
  },
  {
   "cell_type": "code",
   "execution_count": 469,
   "id": "46c49d3f",
   "metadata": {},
   "outputs": [
    {
     "data": {
      "text/plain": [
       "73.14052284486192"
      ]
     },
     "execution_count": 469,
     "metadata": {},
     "output_type": "execute_result"
    }
   ],
   "source": [
    "total_30d = (\n",
    "    forecast_2023_09_21.iloc[-1] + \n",
    "    forecast_2023_09_22.iloc[-1] +\n",
    "    forecast_2023_09_23.iloc[-1] +\n",
    "    forecast_2023_09_24.iloc[-1] +\n",
    "    forecast_2023_09_25.iloc[-1] +\n",
    "    forecast_2023_09_26.iloc[-1] +\n",
    "    forecast_2023_09_27.iloc[-1] +\n",
    "    forecast_2023_09_28.iloc[-1]\n",
    ")\n",
    "\n",
    "total_30d"
   ]
  },
  {
   "cell_type": "markdown",
   "id": "898d0632",
   "metadata": {},
   "source": [
    "Теперь узнаем ревеню нулевого, первого и третьего дней"
   ]
  },
  {
   "cell_type": "code",
   "execution_count": 470,
   "id": "9314431e",
   "metadata": {},
   "outputs": [],
   "source": [
    "# Добавляем колонки, которые определяют нулевой, первый и третий дни\n",
    "grouped_revenue_x_full['0d_revenue_date'] = pd.to_datetime(grouped_revenue_x_full['install_date'])\n",
    "grouped_revenue_x_full['1d_revenue_date'] = pd.to_datetime(grouped_revenue_x_full['install_date']) + pd.Timedelta(days=1)\n",
    "grouped_revenue_x_full['2d_revenue_date'] = pd.to_datetime(grouped_revenue_x_full['install_date']) + pd.Timedelta(days=2)\n",
    "grouped_revenue_x_full['3d_revenue_date'] = pd.to_datetime(grouped_revenue_x_full['install_date']) + pd.Timedelta(days=3)\n",
    "\n",
    "# Отфильтровываем строки, где event_date совпадает с нужным днем\n",
    "zero_day_revenue = grouped_revenue_x_full[grouped_revenue_x_full['event_date'] == grouped_revenue_x_full['0d_revenue_date']]\n",
    "first_day_revenue = grouped_revenue_x_full[grouped_revenue_x_full['event_date'] == grouped_revenue_x_full['1d_revenue_date']]\n",
    "second_day_revenue = grouped_revenue_x_full[grouped_revenue_x_full['event_date'] == grouped_revenue_x_full['2d_revenue_date']]\n",
    "third_day_revenue = grouped_revenue_x_full[grouped_revenue_x_full['event_date'] == grouped_revenue_x_full['3d_revenue_date']]"
   ]
  },
  {
   "cell_type": "code",
   "execution_count": 471,
   "id": "649f2a56",
   "metadata": {},
   "outputs": [
    {
     "data": {
      "text/plain": [
       "4340.317628000001"
      ]
     },
     "execution_count": 471,
     "metadata": {},
     "output_type": "execute_result"
    }
   ],
   "source": [
    "total_revenue_0d = zero_day_revenue['event_revenue'].sum()\n",
    "total_revenue_0d"
   ]
  },
  {
   "cell_type": "code",
   "execution_count": 472,
   "id": "bb436b70",
   "metadata": {},
   "outputs": [
    {
     "data": {
      "text/plain": [
       "1763.112779"
      ]
     },
     "execution_count": 472,
     "metadata": {},
     "output_type": "execute_result"
    }
   ],
   "source": [
    "total_revenue_1d = first_day_revenue['event_revenue'].sum()\n",
    "total_revenue_1d"
   ]
  },
  {
   "cell_type": "code",
   "execution_count": 473,
   "id": "7012c9ea",
   "metadata": {},
   "outputs": [
    {
     "data": {
      "text/plain": [
       "1017.591277"
      ]
     },
     "execution_count": 473,
     "metadata": {},
     "output_type": "execute_result"
    }
   ],
   "source": [
    "total_revenue_2d = second_day_revenue['event_revenue'].sum()\n",
    "total_revenue_2d"
   ]
  },
  {
   "cell_type": "code",
   "execution_count": 474,
   "id": "40a7bd29",
   "metadata": {},
   "outputs": [
    {
     "data": {
      "text/plain": [
       "814.3769211399999"
      ]
     },
     "execution_count": 474,
     "metadata": {},
     "output_type": "execute_result"
    }
   ],
   "source": [
    "total_revenue_3d = third_day_revenue['event_revenue'].sum()\n",
    "total_revenue_3d"
   ]
  },
  {
   "cell_type": "code",
   "execution_count": 475,
   "id": "d99b0c45",
   "metadata": {},
   "outputs": [
    {
     "name": "stdout",
     "output_type": "stream",
     "text": [
      "Ревеню 0-го дня увеличится в 59 раз по отношению к 30-му дню\n",
      "Ревеню 1-го дня увеличится в 24 раза по отношению к 30-му дню\n",
      "Ревеню 3-го дня увеличится в 11 раз по отношению к 30-му дню\n"
     ]
    }
   ],
   "source": [
    "print(f'Ревеню 0-го дня увеличится в {round(total_revenue_0d / total_30d)} раз по отношению к 30-му дню')\n",
    "print(f'Ревеню 1-го дня увеличится в {round(total_revenue_1d / total_30d)} раза по отношению к 30-му дню')\n",
    "print(f'Ревеню 3-го дня увеличится в {round(total_revenue_3d / total_30d)} раз по отношению к 30-му дню')"
   ]
  },
  {
   "cell_type": "code",
   "execution_count": null,
   "id": "00c1a686",
   "metadata": {},
   "outputs": [],
   "source": []
  }
 ],
 "metadata": {
  "kernelspec": {
   "display_name": "Python 3 (ipykernel)",
   "language": "python",
   "name": "python3"
  },
  "language_info": {
   "codemirror_mode": {
    "name": "ipython",
    "version": 3
   },
   "file_extension": ".py",
   "mimetype": "text/x-python",
   "name": "python",
   "nbconvert_exporter": "python",
   "pygments_lexer": "ipython3",
   "version": "3.9.13"
  },
  "toc": {
   "base_numbering": 1,
   "nav_menu": {},
   "number_sections": true,
   "sideBar": true,
   "skip_h1_title": false,
   "title_cell": "Table of Contents",
   "title_sidebar": "Contents",
   "toc_cell": false,
   "toc_position": {},
   "toc_section_display": true,
   "toc_window_display": false
  },
  "vp": {
   "vp_config_version": "1.0.0",
   "vp_menu_width": 273,
   "vp_note_display": false,
   "vp_note_width": 0,
   "vp_position": {
    "width": 278
   },
   "vp_section_display": false,
   "vp_signature": "VisualPython"
  }
 },
 "nbformat": 4,
 "nbformat_minor": 5
}
